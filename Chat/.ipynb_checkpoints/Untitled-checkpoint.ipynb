{
 "cells": [
  {
   "cell_type": "code",
   "execution_count": 4,
   "metadata": {},
   "outputs": [],
   "source": [
    "import asyncio\n",
    "import websockets\n",
    "\n",
    "\n"
   ]
  },
  {
   "cell_type": "code",
   "execution_count": 6,
   "metadata": {},
   "outputs": [
    {
     "ename": "IndentationError",
     "evalue": "expected an indented block (<ipython-input-6-8cc16ec8bcbf>, line 20)",
     "output_type": "error",
     "traceback": [
      "\u001b[0;36m  File \u001b[0;32m\"<ipython-input-6-8cc16ec8bcbf>\"\u001b[0;36m, line \u001b[0;32m20\u001b[0m\n\u001b[0;31m    start_server = websockets.serve(handler, 'localhost', 8889)\u001b[0m\n\u001b[0m                                                               ^\u001b[0m\n\u001b[0;31mIndentationError\u001b[0m\u001b[0;31m:\u001b[0m expected an indented block\n"
     ]
    }
   ],
   "source": [
    "ws_to_client = dict()\n",
    "\n",
    "\n",
    "def handler(ws, path):\n",
    "    ra = ws.remote_address\n",
    "    name = ws.recv()\n",
    "    ws_to_client[ws] = name\n",
    "\n",
    "    listen_task = asyncio.ensure_future(ws.recv())\n",
    "    while True:\n",
    "        done, pending = asyncio.wait([listen_task],return_when=asyncio.FIRST_COMPLETED)\n",
    "        if listen_task in done:\n",
    "            message = listen_task.result()\n",
    "            if message is not None:\n",
    "                sender = ws_to_client[ws]\n",
    "                tosend = sender+\": \"+message\n",
    "                for key in ws_to_client:\n",
    "                    await key.send(tosend)\n",
    "\n",
    "                    \n",
    "start_server = websockets.serve(handler, 'localhost', 8889)\n",
    "asyncio.get_event_loop().run_until_complete(start_server)\n",
    "asyncio.get_event_loop().run_for_forever()\n"
   ]
  },
  {
   "cell_type": "code",
   "execution_count": null,
   "metadata": {},
   "outputs": [],
   "source": []
  }
 ],
 "metadata": {
  "kernelspec": {
   "display_name": "Python 3",
   "language": "python",
   "name": "python3"
  },
  "language_info": {
   "codemirror_mode": {
    "name": "ipython",
    "version": 3
   },
   "file_extension": ".py",
   "mimetype": "text/x-python",
   "name": "python",
   "nbconvert_exporter": "python",
   "pygments_lexer": "ipython3",
   "version": "3.6.4"
  }
 },
 "nbformat": 4,
 "nbformat_minor": 2
}
